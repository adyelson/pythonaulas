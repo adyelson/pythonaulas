{
  "nbformat": 4,
  "nbformat_minor": 0,
  "metadata": {
    "colab": {
      "name": "Adyelson_proj_1.ipynb",
      "provenance": [],
      "collapsed_sections": [],
      "authorship_tag": "ABX9TyMVx5JroaQ1YUS8+JVmrtRv",
      "include_colab_link": true
    },
    "kernelspec": {
      "name": "python3",
      "display_name": "Python 3"
    },
    "language_info": {
      "name": "python"
    }
  },
  "cells": [
    {
      "cell_type": "markdown",
      "metadata": {
        "id": "view-in-github",
        "colab_type": "text"
      },
      "source": [
        "<a href=\"https://colab.research.google.com/github/adyelson/pythonaulas/blob/main/Adyelson_proj_1.ipynb\" target=\"_parent\"><img src=\"https://colab.research.google.com/assets/colab-badge.svg\" alt=\"Open In Colab\"/></a>"
      ]
    },
    {
      "cell_type": "code",
      "metadata": {
        "id": "YAsejtgQ3M_m"
      },
      "source": [
        "import pandas as pd"
      ],
      "execution_count": 2,
      "outputs": []
    },
    {
      "cell_type": "code",
      "metadata": {
        "id": "7ew0At6K3sN6"
      },
      "source": [
        "lista_meses = ['janeiro','fevereiro','março','abril','maio','junho']"
      ],
      "execution_count": 4,
      "outputs": []
    },
    {
      "cell_type": "markdown",
      "metadata": {
        "id": "fycbMgT3Al1y"
      },
      "source": [
        "(f'{dinamico}.extensão') mesma ideia de (var +'.xlsx')\n",
        "\n",
        ".values(0) para retornar somente o valor da célula"
      ]
    },
    {
      "cell_type": "code",
      "metadata": {
        "colab": {
          "base_uri": "https://localhost:8080/"
        },
        "id": "qBu7dPfO3hTk",
        "outputId": "90dc0db3-030a-436b-8c27-e1060530891c"
      },
      "source": [
        "for mes in lista_meses:\n",
        "  tabela_vendas = pd.read_excel(f'{mes}.xlsx')\n",
        "  if (tabela_vendas['Vendas']>55000).any():\n",
        "    vendedor = tabela_vendas.loc[tabela_vendas['Vendas']>55000, 'Vendedor'].values[0]\n",
        "    vendas = tabela_vendas.loc[tabela_vendas['Vendas']>55000, 'Vendas'].values[0]\n",
        "    print(f'No mês de {mes} o funcinário {vendedor} obteve em vendas, {vendas} reais')"
      ],
      "execution_count": 15,
      "outputs": [
        {
          "output_type": "stream",
          "name": "stdout",
          "text": [
            "No mês de maio o funcinário Hash obteve em vendas, 57312 reais\n"
          ]
        }
      ]
    }
  ]
}